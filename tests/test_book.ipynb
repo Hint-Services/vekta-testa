{
 "cells": [
  {
   "cell_type": "code",
   "execution_count": 1,
   "metadata": {
    "collapsed": true,
    "ExecuteTime": {
     "end_time": "2023-08-18T15:53:13.810189Z",
     "start_time": "2023-08-18T15:53:12.552648Z"
    }
   },
   "outputs": [
    {
     "name": "stdout",
     "output_type": "stream",
     "text": [
      "Requirement already satisfied: sentence-transformers in /Users/ben/miniconda/envs/metal-conda/lib/python3.8/site-packages (2.2.2)\r\n",
      "Requirement already satisfied: langchain in /Users/ben/miniconda/envs/metal-conda/lib/python3.8/site-packages (0.0.267)\r\n",
      "Requirement already satisfied: faiss-cpu in /Users/ben/miniconda/envs/metal-conda/lib/python3.8/site-packages (1.7.4)\r\n",
      "Requirement already satisfied: openai in /Users/ben/miniconda/envs/metal-conda/lib/python3.8/site-packages (0.27.8)\r\n",
      "Requirement already satisfied: pinecone-client in /Users/ben/miniconda/envs/metal-conda/lib/python3.8/site-packages (2.2.2)\r\n",
      "Requirement already satisfied: transformers<5.0.0,>=4.6.0 in /Users/ben/miniconda/envs/metal-conda/lib/python3.8/site-packages (from sentence-transformers) (4.28.1)\r\n",
      "Requirement already satisfied: tqdm in /Users/ben/miniconda/envs/metal-conda/lib/python3.8/site-packages (from sentence-transformers) (4.65.0)\r\n",
      "Requirement already satisfied: torch>=1.6.0 in /Users/ben/miniconda/envs/metal-conda/lib/python3.8/site-packages (from sentence-transformers) (2.0.0)\r\n",
      "Requirement already satisfied: torchvision in /Users/ben/miniconda/envs/metal-conda/lib/python3.8/site-packages (from sentence-transformers) (0.15.1)\r\n",
      "Requirement already satisfied: numpy in /Users/ben/miniconda/envs/metal-conda/lib/python3.8/site-packages (from sentence-transformers) (1.23.5)\r\n",
      "Requirement already satisfied: scikit-learn in /Users/ben/miniconda/envs/metal-conda/lib/python3.8/site-packages (from sentence-transformers) (1.2.2)\r\n",
      "Requirement already satisfied: scipy in /Users/ben/miniconda/envs/metal-conda/lib/python3.8/site-packages (from sentence-transformers) (1.10.1)\r\n",
      "Requirement already satisfied: nltk in /Users/ben/miniconda/envs/metal-conda/lib/python3.8/site-packages (from sentence-transformers) (3.8.1)\r\n",
      "Requirement already satisfied: sentencepiece in /Users/ben/miniconda/envs/metal-conda/lib/python3.8/site-packages (from sentence-transformers) (0.1.99)\r\n",
      "Requirement already satisfied: huggingface-hub>=0.4.0 in /Users/ben/miniconda/envs/metal-conda/lib/python3.8/site-packages (from sentence-transformers) (0.14.1)\r\n",
      "Requirement already satisfied: PyYAML>=5.3 in /Users/ben/miniconda/envs/metal-conda/lib/python3.8/site-packages (from langchain) (6.0)\r\n",
      "Requirement already satisfied: SQLAlchemy<3,>=1.4 in /Users/ben/miniconda/envs/metal-conda/lib/python3.8/site-packages (from langchain) (2.0.12)\r\n",
      "Requirement already satisfied: aiohttp<4.0.0,>=3.8.3 in /Users/ben/miniconda/envs/metal-conda/lib/python3.8/site-packages (from langchain) (3.8.3)\r\n",
      "Requirement already satisfied: async-timeout<5.0.0,>=4.0.0 in /Users/ben/miniconda/envs/metal-conda/lib/python3.8/site-packages (from langchain) (4.0.2)\r\n",
      "Requirement already satisfied: dataclasses-json<0.6.0,>=0.5.7 in /Users/ben/miniconda/envs/metal-conda/lib/python3.8/site-packages (from langchain) (0.5.7)\r\n",
      "Requirement already satisfied: langsmith<0.1.0,>=0.0.21 in /Users/ben/miniconda/envs/metal-conda/lib/python3.8/site-packages (from langchain) (0.0.24)\r\n",
      "Requirement already satisfied: numexpr<3.0.0,>=2.8.4 in /Users/ben/miniconda/envs/metal-conda/lib/python3.8/site-packages (from langchain) (2.8.4)\r\n",
      "Requirement already satisfied: openapi-schema-pydantic<2.0,>=1.2 in /Users/ben/miniconda/envs/metal-conda/lib/python3.8/site-packages (from langchain) (1.2.4)\r\n",
      "Requirement already satisfied: pydantic<3,>=1 in /Users/ben/miniconda/envs/metal-conda/lib/python3.8/site-packages (from langchain) (2.2.0)\r\n",
      "Requirement already satisfied: requests<3,>=2 in /Users/ben/miniconda/envs/metal-conda/lib/python3.8/site-packages (from langchain) (2.29.0)\r\n",
      "Requirement already satisfied: tenacity<9.0.0,>=8.1.0 in /Users/ben/miniconda/envs/metal-conda/lib/python3.8/site-packages (from langchain) (8.2.2)\r\n",
      "Requirement already satisfied: loguru>=0.5.0 in /Users/ben/miniconda/envs/metal-conda/lib/python3.8/site-packages (from pinecone-client) (0.7.0)\r\n",
      "Requirement already satisfied: typing-extensions>=3.7.4 in /Users/ben/miniconda/envs/metal-conda/lib/python3.8/site-packages (from pinecone-client) (4.7.1)\r\n",
      "Requirement already satisfied: dnspython>=2.0.0 in /Users/ben/miniconda/envs/metal-conda/lib/python3.8/site-packages (from pinecone-client) (2.3.0)\r\n",
      "Requirement already satisfied: python-dateutil>=2.5.3 in /Users/ben/miniconda/envs/metal-conda/lib/python3.8/site-packages (from pinecone-client) (2.8.2)\r\n",
      "Requirement already satisfied: urllib3>=1.21.1 in /Users/ben/miniconda/envs/metal-conda/lib/python3.8/site-packages (from pinecone-client) (1.26.15)\r\n",
      "Requirement already satisfied: attrs>=17.3.0 in /Users/ben/miniconda/envs/metal-conda/lib/python3.8/site-packages (from aiohttp<4.0.0,>=3.8.3->langchain) (22.1.0)\r\n",
      "Requirement already satisfied: charset-normalizer<3.0,>=2.0 in /Users/ben/miniconda/envs/metal-conda/lib/python3.8/site-packages (from aiohttp<4.0.0,>=3.8.3->langchain) (2.0.4)\r\n",
      "Requirement already satisfied: multidict<7.0,>=4.5 in /Users/ben/miniconda/envs/metal-conda/lib/python3.8/site-packages (from aiohttp<4.0.0,>=3.8.3->langchain) (6.0.2)\r\n",
      "Requirement already satisfied: yarl<2.0,>=1.0 in /Users/ben/miniconda/envs/metal-conda/lib/python3.8/site-packages (from aiohttp<4.0.0,>=3.8.3->langchain) (1.8.1)\r\n",
      "Requirement already satisfied: frozenlist>=1.1.1 in /Users/ben/miniconda/envs/metal-conda/lib/python3.8/site-packages (from aiohttp<4.0.0,>=3.8.3->langchain) (1.3.3)\r\n",
      "Requirement already satisfied: aiosignal>=1.1.2 in /Users/ben/miniconda/envs/metal-conda/lib/python3.8/site-packages (from aiohttp<4.0.0,>=3.8.3->langchain) (1.2.0)\r\n",
      "Requirement already satisfied: marshmallow<4.0.0,>=3.3.0 in /Users/ben/miniconda/envs/metal-conda/lib/python3.8/site-packages (from dataclasses-json<0.6.0,>=0.5.7->langchain) (3.19.0)\r\n",
      "Requirement already satisfied: marshmallow-enum<2.0.0,>=1.5.1 in /Users/ben/miniconda/envs/metal-conda/lib/python3.8/site-packages (from dataclasses-json<0.6.0,>=0.5.7->langchain) (1.5.1)\r\n",
      "Requirement already satisfied: typing-inspect>=0.4.0 in /Users/ben/miniconda/envs/metal-conda/lib/python3.8/site-packages (from dataclasses-json<0.6.0,>=0.5.7->langchain) (0.8.0)\r\n",
      "Requirement already satisfied: filelock in /Users/ben/miniconda/envs/metal-conda/lib/python3.8/site-packages (from huggingface-hub>=0.4.0->sentence-transformers) (3.12.0)\r\n",
      "Requirement already satisfied: fsspec in /Users/ben/miniconda/envs/metal-conda/lib/python3.8/site-packages (from huggingface-hub>=0.4.0->sentence-transformers) (2023.4.0)\r\n",
      "Requirement already satisfied: packaging>=20.9 in /Users/ben/miniconda/envs/metal-conda/lib/python3.8/site-packages (from huggingface-hub>=0.4.0->sentence-transformers) (23.0)\r\n",
      "Requirement already satisfied: annotated-types>=0.4.0 in /Users/ben/miniconda/envs/metal-conda/lib/python3.8/site-packages (from pydantic<3,>=1->langchain) (0.5.0)\r\n",
      "Requirement already satisfied: pydantic-core==2.6.0 in /Users/ben/miniconda/envs/metal-conda/lib/python3.8/site-packages (from pydantic<3,>=1->langchain) (2.6.0)\r\n",
      "Requirement already satisfied: six>=1.5 in /Users/ben/miniconda/envs/metal-conda/lib/python3.8/site-packages (from python-dateutil>=2.5.3->pinecone-client) (1.16.0)\r\n",
      "Requirement already satisfied: idna<4,>=2.5 in /Users/ben/miniconda/envs/metal-conda/lib/python3.8/site-packages (from requests<3,>=2->langchain) (3.4)\r\n",
      "Requirement already satisfied: certifi>=2017.4.17 in /Users/ben/miniconda/envs/metal-conda/lib/python3.8/site-packages (from requests<3,>=2->langchain) (2022.12.7)\r\n",
      "Requirement already satisfied: sympy in /Users/ben/miniconda/envs/metal-conda/lib/python3.8/site-packages (from torch>=1.6.0->sentence-transformers) (1.11.1)\r\n",
      "Requirement already satisfied: networkx in /Users/ben/miniconda/envs/metal-conda/lib/python3.8/site-packages (from torch>=1.6.0->sentence-transformers) (3.1)\r\n",
      "Requirement already satisfied: jinja2 in /Users/ben/miniconda/envs/metal-conda/lib/python3.8/site-packages (from torch>=1.6.0->sentence-transformers) (3.1.2)\r\n",
      "Requirement already satisfied: regex!=2019.12.17 in /Users/ben/miniconda/envs/metal-conda/lib/python3.8/site-packages (from transformers<5.0.0,>=4.6.0->sentence-transformers) (2023.5.4)\r\n",
      "Requirement already satisfied: tokenizers!=0.11.3,<0.14,>=0.11.1 in /Users/ben/miniconda/envs/metal-conda/lib/python3.8/site-packages (from transformers<5.0.0,>=4.6.0->sentence-transformers) (0.13.3)\r\n",
      "Requirement already satisfied: click in /Users/ben/miniconda/envs/metal-conda/lib/python3.8/site-packages (from nltk->sentence-transformers) (8.0.4)\r\n",
      "Requirement already satisfied: joblib in /Users/ben/miniconda/envs/metal-conda/lib/python3.8/site-packages (from nltk->sentence-transformers) (1.1.1)\r\n",
      "Requirement already satisfied: threadpoolctl>=2.0.0 in /Users/ben/miniconda/envs/metal-conda/lib/python3.8/site-packages (from scikit-learn->sentence-transformers) (2.2.0)\r\n",
      "Requirement already satisfied: pillow!=8.3.*,>=5.3.0 in /Users/ben/miniconda/envs/metal-conda/lib/python3.8/site-packages (from torchvision->sentence-transformers) (9.4.0)\r\n",
      "Requirement already satisfied: mypy-extensions>=0.3.0 in /Users/ben/miniconda/envs/metal-conda/lib/python3.8/site-packages (from typing-inspect>=0.4.0->dataclasses-json<0.6.0,>=0.5.7->langchain) (1.0.0)\r\n",
      "Requirement already satisfied: MarkupSafe>=2.0 in /Users/ben/miniconda/envs/metal-conda/lib/python3.8/site-packages (from jinja2->torch>=1.6.0->sentence-transformers) (2.1.1)\r\n",
      "Requirement already satisfied: mpmath>=0.19 in /Users/ben/miniconda/envs/metal-conda/lib/python3.8/site-packages (from sympy->torch>=1.6.0->sentence-transformers) (1.3.0)\r\n"
     ]
    }
   ],
   "source": [
    "!pip install sentence-transformers langchain faiss-cpu openai pinecone-client"
   ]
  },
  {
   "cell_type": "code",
   "execution_count": 2,
   "metadata": {
    "collapsed": false,
    "ExecuteTime": {
     "end_time": "2023-08-18T15:53:13.813161Z",
     "start_time": "2023-08-18T15:53:13.811443Z"
    }
   },
   "outputs": [],
   "source": [
    "# OPENAI_API_KEY=\"\""
   ]
  },
  {
   "cell_type": "code",
   "execution_count": 3,
   "metadata": {
    "collapsed": false,
    "ExecuteTime": {
     "end_time": "2023-08-18T15:53:13.820545Z",
     "start_time": "2023-08-18T15:53:13.814540Z"
    }
   },
   "outputs": [],
   "source": [
    "import sys\n",
    "sys.path.append(\"..\")\n",
    "from vekta_testa import runner, utils"
   ]
  },
  {
   "cell_type": "code",
   "execution_count": 4,
   "outputs": [],
   "source": [
    "import pandas as pd\n",
    "import json\n",
    "from langchain.docstore.document import Document\n",
    "\n",
    "# Dataset adapted from: https://www.kaggle.com/datasets/juhibhojani/house-price\n",
    "data = pd.read_csv('indian_real_estate.csv')\n",
    "\n",
    "# Grab the value we will be searching for out of the dataset\n",
    "chosenIndex = data.iloc[284]\n",
    "clean_value = {key: value for key, value in chosenIndex.to_dict().items() if value is not None and not pd.isna(value)}\n",
    "clean_doc = Document(page_content=json.dumps(clean_value), metadata={})\n",
    "\n",
    "# Shuffle the dataset to mix cities\n",
    "shuffled = data.sample(frac=1).reset_index(drop=True)\n",
    "\n",
    "properties = [clean_doc]\n",
    "for index, row in shuffled.iterrows():\n",
    "    # Clean out the empty data\n",
    "    clean_row = {key: value for key, value in row.to_dict().items() if value is not None and not pd.isna(value)}\n",
    "    json_string = json.dumps(clean_row)\n",
    "    doc = Document(page_content=json_string, metadata={})\n",
    "    properties.append(doc)"
   ],
   "metadata": {
    "collapsed": false,
    "ExecuteTime": {
     "end_time": "2023-08-18T15:53:20.866795Z",
     "start_time": "2023-08-18T15:53:13.822666Z"
    }
   }
  },
  {
   "cell_type": "code",
   "execution_count": 5,
   "outputs": [
    {
     "data": {
      "text/plain": "Document(page_content='{\"Unnamed: 0\": 284, \"Index\": 284, \"Title\": \"2 BHK Ready to Occupy Flat for sale in Swastik Alps Thane West\", \"Description\": \"Thane West, Thane has an appealing 2 BHK flat for sale with various amenities. Situated in the excellent Swastik Alps township. The flat enjoys a prime location. This is a desirable apartment for resale. You can buy this ready to move flat in Thane West at a reasonable price of INR 1.20 Cr. You will find it semi-furnished.\", \"Price (in rupees)\": 10573.0, \"Location\": \"thane\", \"Status\": \"Ready to Move\", \"Furnishing\": \"Semi-Furnished\", \"Society\": \"Swastik Alps\", \"Bathroom\": \"2\", \"Super Area\": \"1135 sqft\"}', metadata={})"
     },
     "execution_count": 5,
     "metadata": {},
     "output_type": "execute_result"
    }
   ],
   "source": [
    "properties[0]"
   ],
   "metadata": {
    "collapsed": false,
    "ExecuteTime": {
     "end_time": "2023-08-18T15:53:20.875808Z",
     "start_time": "2023-08-18T15:53:20.873137Z"
    }
   }
  },
  {
   "cell_type": "code",
   "execution_count": 6,
   "outputs": [],
   "source": [
    "from langchain.embeddings import HuggingFaceEmbeddings\n",
    "from langchain.vectorstores import FAISS\n",
    "\n",
    "encode_kwargs = {'normalize_embeddings': True} # set True to compute cosine similarity\n",
    "\n",
    "tableModel = HuggingFaceEmbeddings(model_name=\"deepset/all-mpnet-base-v2-table\", encode_kwargs=encode_kwargs )\n",
    "table_index = FAISS.from_documents(properties[:2000], tableModel)"
   ],
   "metadata": {
    "collapsed": false,
    "ExecuteTime": {
     "end_time": "2023-08-18T15:55:31.137952Z",
     "start_time": "2023-08-18T15:53:20.877834Z"
    }
   }
  },
  {
   "cell_type": "code",
   "execution_count": 7,
   "outputs": [],
   "source": [
    "from langchain.embeddings import HuggingFaceBgeEmbeddings\n",
    "from langchain.vectorstores import FAISS\n",
    "\n",
    "model_kwargs = {'device': 'cpu'}\n",
    "encode_kwargs = {'normalize_embeddings': True} # set True to compute cosine similarity\n",
    "\n",
    "bgeModel = HuggingFaceBgeEmbeddings(model_name=\"BAAI/bge-base-en\", model_kwargs=model_kwargs, encode_kwargs=encode_kwargs)\n",
    "faiss_index_bge = FAISS.from_documents(properties[:2000], bgeModel)"
   ],
   "metadata": {
    "collapsed": false,
    "ExecuteTime": {
     "end_time": "2023-08-18T15:57:44.437531Z",
     "start_time": "2023-08-18T15:55:31.139727Z"
    }
   }
  },
  {
   "cell_type": "code",
   "execution_count": 8,
   "metadata": {
    "collapsed": false,
    "ExecuteTime": {
     "end_time": "2023-08-18T15:57:58.630895Z",
     "start_time": "2023-08-18T15:57:44.438673Z"
    }
   },
   "outputs": [],
   "source": [
    "from langchain.embeddings.openai import OpenAIEmbeddings\n",
    "from langchain.vectorstores import FAISS\n",
    "\n",
    "oaiEmbeddings = OpenAIEmbeddings(openai_api_key=OPENAI_API_KEY)\n",
    "faiss_index_openai = FAISS.from_documents(properties[:2000], oaiEmbeddings)\n",
    "# faiss_index_openai.similarity_search_with_score('apartment', k=1001)[0]"
   ]
  },
  {
   "cell_type": "code",
   "execution_count": 9,
   "metadata": {
    "collapsed": false,
    "ExecuteTime": {
     "end_time": "2023-08-18T15:57:58.633747Z",
     "start_time": "2023-08-18T15:57:58.632339Z"
    }
   },
   "outputs": [],
   "source": [
    "import json\n",
    "def find_id(entries, target_id):\n",
    "    for index, (entry, score) in enumerate(entries):\n",
    "        if str(entry['Index']) == target_id:\n",
    "            # print('id found')\n",
    "            return index\n",
    "    return -1\n",
    "\n",
    "def find_id_pinecone(entries, target_id):\n",
    "    for index, (entry, score) in enumerate(entries):\n",
    "        # print('-', json.loads(entry.page_content)['Index'], '<', target_id, json.loads(entry.page_content)['Index'] == target_id)\n",
    "        if str(json.loads(entry.page_content)['Index']) == target_id:\n",
    "            # print('id found')\n",
    "            return index\n",
    "    return -1"
   ]
  },
  {
   "cell_type": "code",
   "execution_count": 10,
   "metadata": {
    "ExecuteTime": {
     "end_time": "2023-08-18T15:57:58.635943Z",
     "start_time": "2023-08-18T15:57:58.634609Z"
    }
   },
   "outputs": [],
   "source": [
    "# Update values from langchain to vekta_testa format\n",
    "def post_processor(scenario, scored_values):\n",
    "    processor_results = []\n",
    "    for index, (entry, score) in enumerate(scored_values):\n",
    "        value = json.loads(entry.page_content)\n",
    "        processor_results.append((value, score))\n",
    "    return processor_results"
   ]
  },
  {
   "cell_type": "code",
   "execution_count": 12,
   "metadata": {
    "collapsed": false,
    "ExecuteTime": {
     "end_time": "2023-08-18T15:58:21.756195Z",
     "start_time": "2023-08-18T15:58:17.818456Z"
    }
   },
   "outputs": [
    {
     "name": "stdout",
     "output_type": "stream",
     "text": [
      "Starting test -  0-control\n",
      "Starting test -  1-exact\n",
      "Starting test -  2-partial\n",
      "Starting test -  3-other-words\n",
      "Starting test -  4-location\n",
      "Starting test -  5-negative\n",
      "Starting test -  6-price-beds\n"
     ]
    }
   ],
   "source": [
    "results = runner.run_vecta_tests(\n",
    "    [\n",
    "        runner.EmbeddingIndex(\n",
    "            index_name='openai',\n",
    "            search_function=lambda scenario: faiss_index_openai.similarity_search_with_score(scenario, k=900),\n",
    "            find_result=lambda values, target: find_id(values, target),\n",
    "            post_processor=lambda scenario, scored_values: post_processor(scenario, scored_values)\n",
    "        ),\n",
    "        runner.EmbeddingIndex(\n",
    "            index_name='deepset/all-mpnet-base-v2-table',\n",
    "            search_function=lambda scenario: table_index.similarity_search_with_score(scenario, k=900),\n",
    "            find_result=lambda values, target: find_id_pinecone(values, target)\n",
    "        ),\n",
    "        runner.EmbeddingIndex(\n",
    "            index_name='BAAI/bge-large-en',\n",
    "            search_function=lambda scenario: faiss_index_bge.similarity_search_with_score(scenario, k=900),\n",
    "            find_result=lambda values, target: find_id_pinecone(values, target)\n",
    "        ),\n",
    "    ],\n",
    "    [\n",
    "        runner.Testcase(\n",
    "            case_id='0-control',\n",
    "            scenario=\"kimchi\"\n",
    "        ),\n",
    "        runner.Testcase(\n",
    "            case_id='1-exact',\n",
    "            scenario=\"Thane has an appealing 2 BHK flat for sale with various amenities. Situated in the excellent Swastik Alps township.\"\n",
    "        ),\n",
    "        runner.Testcase(\n",
    "            case_id='2-partial',\n",
    "            scenario=\"Thane has an appealing 2 BHK flat for sale with various amenities. It's located in the exquisite township near the mountains.\"\n",
    "        ),\n",
    "        runner.Testcase(\n",
    "            case_id='3-other-words',\n",
    "            scenario='Offers a charming two bedroom apartment available, equipped with numerous features. Located in the prime Swastik Heights community.'\n",
    "        ),\n",
    "        runner.Testcase(\n",
    "            case_id='4-location',\n",
    "            scenario='Apartment in Swastik Alps town'\n",
    "        ),\n",
    "        runner.Testcase(\n",
    "            case_id='5-negative',\n",
    "            scenario='apartment in the alps, without a terrace'\n",
    "        ),\n",
    "        runner.Testcase(\n",
    "            case_id='6-price-beds',\n",
    "            scenario='apartment for under 11000 rupees with 2 bedrooms'\n",
    "        )\n",
    "    ],\n",
    "    '284'\n",
    ")"
   ]
  },
  {
   "cell_type": "code",
   "execution_count": 14,
   "metadata": {
    "ExecuteTime": {
     "end_time": "2023-08-18T15:58:28.794111Z",
     "start_time": "2023-08-18T15:58:28.505571Z"
    }
   },
   "outputs": [
    {
     "data": {
      "text/plain": "<Figure size 1500x600 with 1 Axes>",
      "image/png": "[encoded data removed]"
     },
     "metadata": {},
     "output_type": "display_data"
    }
   ],
   "source": [
    "from vekta_testa.graph import plot_results\n",
    "\n",
    "plot_results(results, {\n",
    "        'openai': 'b',\n",
    "        'deepset/all-mpnet-base-v2-table': 'g',\n",
    "        'BAAI/bge-large-en': 'r',\n",
    "    },\n",
    "    900\n",
    ")"
   ]
  },
  {
   "cell_type": "code",
   "execution_count": 15,
   "outputs": [
    {
     "data": {
      "text/plain": "(Document(page_content='{\"Unnamed: 0\": 9280, \"Index\": 9280, \"Title\": \"2 BHK Ready to Occupy Flat for sale in Pooja Apartment Maninagar\", \"Description\": \"Have a look at this immaculate 2 BHK flat for sale in Maninagar, Ahmedabad. It enjoys an excellent location within the\\\\u00a0Pooja Apartment. This is one of the best properties available for resale. This apartment in one of the significant areas of Maninagar is ready to move, and can be purchased at the best price of INR 65 Lac. It is a unfurnished apartment.\", \"Price (in rupees)\": 6878.0, \"Location\": \"ahmedabad\", \"Square Footage\": \"105 sqyrd\", \"Status\": \"Ready to Move\", \"Furnishing\": \"Unfurnished\", \"facing\": \"East\", \"overlooking\": \"Main Road\", \"Society\": \"Pooja Apartment\", \"Bathroom\": \"2\", \"Balcony\": \"2\", \"Ownership\": \"Freehold\"}', metadata={}),\n 1.8341149)"
     },
     "execution_count": 15,
     "metadata": {},
     "output_type": "execute_result"
    }
   ],
   "source": [
    "results['0-control'][1]['all_results'][899]"
   ],
   "metadata": {
    "collapsed": false,
    "ExecuteTime": {
     "end_time": "2023-08-18T15:58:31.379378Z",
     "start_time": "2023-08-18T15:58:31.376299Z"
    }
   }
  }
 ],
 "metadata": {
  "kernelspec": {
   "display_name": "Python 3",
   "language": "python",
   "name": "python3"
  },
  "language_info": {
   "codemirror_mode": {
    "name": "ipython",
    "version": 3
   },
   "file_extension": ".py",
   "mimetype": "text/x-python",
   "name": "python",
   "nbconvert_exporter": "python",
   "pygments_lexer": "ipython3",
   "version": "3.8.16"
  }
 },
 "nbformat": 4,
 "nbformat_minor": 0
}
